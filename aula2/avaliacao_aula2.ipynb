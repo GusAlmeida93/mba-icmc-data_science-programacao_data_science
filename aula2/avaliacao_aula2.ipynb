{
  "cells": [
    {
      "cell_type": "markdown",
      "metadata": {
        "id": "6funjacwNy-q"
      },
      "source": [
        "# <span style=\"color:blue\"> MBA em Ciência de Dados</span>\n",
        "# <span style=\"color:blue\">Programação para Ciência de Dados</span>\n",
        "\n",
        "## <span style=\"color:blue\">Avaliação Python Parte II</span>\n",
        "**Material Produzido por Luis Gustavo Nonato**<br>\n",
        "**Cemeai - ICMC/USP São Carlos**"
      ]
    },
    {
      "cell_type": "markdown",
      "metadata": {
        "id": "cutfp5OANy-y"
      },
      "source": [
        "<font color='red'> As respostas devem ser fornecidas no Moodle. O notebook é apenas para a implementação dos códigos que fornecerão as respostas</font>"
      ]
    },
    {
      "cell_type": "markdown",
      "metadata": {
        "id": "fXbLVfzhNy-3"
      },
      "source": [
        "### Exercício 1) \n",
        "Considere a lista `mat` abaixo, onde cada elemento é também uma lista. Cada lista correspondendo a um elemento de `mat` tem como primeiro elemento o cargo, o segundo elemento o nível de formação e o terceiro o nome de um  funcionário.\n",
        "\n",
        "Utilize comprehension para gerar uma lista chamada `nomes` que contenha o nome dos funcionários que tem cargo de supervisor. \n",
        "Dentre as opções abaixo, qual implementa a solução corretamente?\n",
        "\n",
        "a) nomes = [s for s in mat if s == 'supervisor']<br>\n",
        "b) nomes = [s[1] for s in mat if s[2] == 'supervisor']<br>\n",
        "c) nomes = [s[2] for s in mat if s[0] == 'supervisor' ]<br>\n",
        "c) nomes = [s[0] for s in mat if s != 'supervisor']"
      ]
    },
    {
      "cell_type": "code",
      "execution_count": 1,
      "metadata": {
        "id": "WgBIqbVINy-4"
      },
      "outputs": [],
      "source": [
        "mat = [\n",
        "    ['supervisor', 'tecnico', 'Carlos'],\n",
        "    ['assistente', 'tecnico', 'Lucas'],\n",
        "    ['iniciante', 'doutor', 'Jessica'],\n",
        "    ['supervisor', 'mestre', 'Alberto'],\n",
        "    ['gerente', 'graduado', 'Ricardo'],\n",
        "    ['engenheiro', 'graduado', 'Fernando'],\n",
        "    ['gerente', 'mestre', 'Jose'],\n",
        "    ['iniciante', 'graduado', 'Joao'],\n",
        "    ['supervisor', 'graduado', 'Fernanda'],\n",
        "]\n"
      ]
    },
    {
      "cell_type": "code",
      "execution_count": 7,
      "metadata": {},
      "outputs": [
        {
          "data": {
            "text/plain": [
              "['supervisor',\n",
              " 'assistente',\n",
              " 'iniciante',\n",
              " 'supervisor',\n",
              " 'gerente',\n",
              " 'engenheiro',\n",
              " 'gerente',\n",
              " 'iniciante',\n",
              " 'supervisor']"
            ]
          },
          "execution_count": 7,
          "metadata": {},
          "output_type": "execute_result"
        }
      ],
      "source": [
        "nomes = [s[0] for s in mat if s != 'supervisor']\n",
        "nomes"
      ]
    },
    {
      "cell_type": "markdown",
      "metadata": {
        "id": "qNf3LdUGNy-7"
      },
      "source": [
        "### Exercício 2)\n",
        "Ainda utilizando a lista `mat` do exercício anterior e comprehension, crie um dicionário chamado `dc` onde cada elemento é da forma `nome:(cargo, formacao)`, ou seja, as chaves são os _nomes_ e os valores uma tupla com o par (_cargo_, _nível de formação_). A forma correta de implentar a solução é:\n",
        "\n",
        "a) dc = {s[2]:(s[0],s[1]) for s in mat}<br>\n",
        "b) dc = [s[2]:(s[0],s[1]) for s in mat]<br>\n",
        "c) dc = {s:(s[0],s[1]) for s in mat}<br>\n",
        "d) dc = {s[2]:[s[0],s[1]] for s in mat}"
      ]
    },
    {
      "cell_type": "code",
      "execution_count": 8,
      "metadata": {
        "id": "kMvAVc18Ny-9"
      },
      "outputs": [
        {
          "data": {
            "text/plain": [
              "{'Carlos': ('supervisor', 'tecnico'),\n",
              " 'Lucas': ('assistente', 'tecnico'),\n",
              " 'Jessica': ('iniciante', 'doutor'),\n",
              " 'Alberto': ('supervisor', 'mestre'),\n",
              " 'Ricardo': ('gerente', 'graduado'),\n",
              " 'Fernando': ('engenheiro', 'graduado'),\n",
              " 'Jose': ('gerente', 'mestre'),\n",
              " 'Joao': ('iniciante', 'graduado'),\n",
              " 'Fernanda': ('supervisor', 'graduado')}"
            ]
          },
          "execution_count": 8,
          "metadata": {},
          "output_type": "execute_result"
        }
      ],
      "source": [
        "# Solucao\n",
        "dc = {s[2]:(s[0],s[1]) for s in mat}\n",
        "dc"
      ]
    },
    {
      "cell_type": "markdown",
      "metadata": {
        "id": "xlNmh7NuNy--"
      },
      "source": [
        "### Exercício 3) \n",
        "A função `comprimento` descrita abaixo \n",
        "```python\n",
        "def comprimento(lst):\n",
        "    dc = {______________}\n",
        "    return(dc)\n",
        "```\n",
        "recebe como atributo uma lista onde cada elemento é uma 'string' e gera um dicionário como resposta, onde as chaves do dicionário são as strings da lista e o valor associado a cada chave o número de caracteres da string chave desconsiderando espaços em brando. Por exemplo:\n",
        "```python\n",
        "print(comprimento(['casa minha','tua casa','nossa que bom'])\n",
        "```\n",
        "deve resultar em:\n",
        "```python\n",
        "{'casa minha': 9, 'tua casa': 7, 'nossa que bom': 11}\n",
        "```\n",
        "\n",
        "Qual das alternativas abaixo completa corretamente a função?\n",
        "\n",
        "a) {s[i]:s[i].count(!=' ') for i in range(len(lst))}<br>\n",
        "b) {s:i for s in lst and i == len(s)}<br>\n",
        "c) {s:len(s)-s.count(' ') for s in lst}<br>\n",
        "d) {s[i]:len(s[i])-s[i].count(' ') for s in lst} "
      ]
    },
    {
      "cell_type": "code",
      "execution_count": 12,
      "metadata": {
        "id": "QFfqmQAWNy-_"
      },
      "outputs": [
        {
          "ename": "NameError",
          "evalue": "name 'i' is not defined",
          "output_type": "error",
          "traceback": [
            "\u001b[0;31m---------------------------------------------------------------------------\u001b[0m",
            "\u001b[0;31mNameError\u001b[0m                                 Traceback (most recent call last)",
            "\u001b[1;32m/home/gustavoalmeida/projetos/mba-icmc-data_science-programacao_data_science/aula2/avaliacao/Python_II_avaliacao.ipynb Cell 9'\u001b[0m in \u001b[0;36m<module>\u001b[0;34m\u001b[0m\n\u001b[1;32m      <a href='vscode-notebook-cell://wsl%2Bubuntu/home/gustavoalmeida/projetos/mba-icmc-data_science-programacao_data_science/aula2/avaliacao/Python_II_avaliacao.ipynb#ch0000007vscode-remote?line=1'>2</a>\u001b[0m     dc \u001b[39m=\u001b[39m {s[i]:\u001b[39mlen\u001b[39m(s[i])\u001b[39m-\u001b[39ms[i]\u001b[39m.\u001b[39mcount(\u001b[39m'\u001b[39m\u001b[39m \u001b[39m\u001b[39m'\u001b[39m) \u001b[39mfor\u001b[39;00m s \u001b[39min\u001b[39;00m lst} \n\u001b[1;32m      <a href='vscode-notebook-cell://wsl%2Bubuntu/home/gustavoalmeida/projetos/mba-icmc-data_science-programacao_data_science/aula2/avaliacao/Python_II_avaliacao.ipynb#ch0000007vscode-remote?line=2'>3</a>\u001b[0m     \u001b[39mreturn\u001b[39;00m(dc)\n\u001b[0;32m----> <a href='vscode-notebook-cell://wsl%2Bubuntu/home/gustavoalmeida/projetos/mba-icmc-data_science-programacao_data_science/aula2/avaliacao/Python_II_avaliacao.ipynb#ch0000007vscode-remote?line=4'>5</a>\u001b[0m \u001b[39mprint\u001b[39m(comprimento([\u001b[39m'\u001b[39;49m\u001b[39mcasa minha\u001b[39;49m\u001b[39m'\u001b[39;49m,\u001b[39m'\u001b[39;49m\u001b[39mtua casa\u001b[39;49m\u001b[39m'\u001b[39;49m,\u001b[39m'\u001b[39;49m\u001b[39mnossa que bom\u001b[39;49m\u001b[39m'\u001b[39;49m]))\n",
            "\u001b[1;32m/home/gustavoalmeida/projetos/mba-icmc-data_science-programacao_data_science/aula2/avaliacao/Python_II_avaliacao.ipynb Cell 9'\u001b[0m in \u001b[0;36mcomprimento\u001b[0;34m(lst)\u001b[0m\n\u001b[1;32m      <a href='vscode-notebook-cell://wsl%2Bubuntu/home/gustavoalmeida/projetos/mba-icmc-data_science-programacao_data_science/aula2/avaliacao/Python_II_avaliacao.ipynb#ch0000007vscode-remote?line=0'>1</a>\u001b[0m \u001b[39mdef\u001b[39;00m \u001b[39mcomprimento\u001b[39m(lst):\n\u001b[0;32m----> <a href='vscode-notebook-cell://wsl%2Bubuntu/home/gustavoalmeida/projetos/mba-icmc-data_science-programacao_data_science/aula2/avaliacao/Python_II_avaliacao.ipynb#ch0000007vscode-remote?line=1'>2</a>\u001b[0m     dc \u001b[39m=\u001b[39m {s[i]:\u001b[39mlen\u001b[39m(s[i])\u001b[39m-\u001b[39ms[i]\u001b[39m.\u001b[39mcount(\u001b[39m'\u001b[39m\u001b[39m \u001b[39m\u001b[39m'\u001b[39m) \u001b[39mfor\u001b[39;00m s \u001b[39min\u001b[39;00m lst} \n\u001b[1;32m      <a href='vscode-notebook-cell://wsl%2Bubuntu/home/gustavoalmeida/projetos/mba-icmc-data_science-programacao_data_science/aula2/avaliacao/Python_II_avaliacao.ipynb#ch0000007vscode-remote?line=2'>3</a>\u001b[0m     \u001b[39mreturn\u001b[39;00m(dc)\n",
            "\u001b[1;32m/home/gustavoalmeida/projetos/mba-icmc-data_science-programacao_data_science/aula2/avaliacao/Python_II_avaliacao.ipynb Cell 9'\u001b[0m in \u001b[0;36m<dictcomp>\u001b[0;34m(.0)\u001b[0m\n\u001b[1;32m      <a href='vscode-notebook-cell://wsl%2Bubuntu/home/gustavoalmeida/projetos/mba-icmc-data_science-programacao_data_science/aula2/avaliacao/Python_II_avaliacao.ipynb#ch0000007vscode-remote?line=0'>1</a>\u001b[0m \u001b[39mdef\u001b[39;00m \u001b[39mcomprimento\u001b[39m(lst):\n\u001b[0;32m----> <a href='vscode-notebook-cell://wsl%2Bubuntu/home/gustavoalmeida/projetos/mba-icmc-data_science-programacao_data_science/aula2/avaliacao/Python_II_avaliacao.ipynb#ch0000007vscode-remote?line=1'>2</a>\u001b[0m     dc \u001b[39m=\u001b[39m {s[i]:\u001b[39mlen\u001b[39m(s[i])\u001b[39m-\u001b[39ms[i]\u001b[39m.\u001b[39mcount(\u001b[39m'\u001b[39m\u001b[39m \u001b[39m\u001b[39m'\u001b[39m) \u001b[39mfor\u001b[39;00m s \u001b[39min\u001b[39;00m lst} \n\u001b[1;32m      <a href='vscode-notebook-cell://wsl%2Bubuntu/home/gustavoalmeida/projetos/mba-icmc-data_science-programacao_data_science/aula2/avaliacao/Python_II_avaliacao.ipynb#ch0000007vscode-remote?line=2'>3</a>\u001b[0m     \u001b[39mreturn\u001b[39;00m(dc)\n",
            "\u001b[0;31mNameError\u001b[0m: name 'i' is not defined"
          ]
        }
      ],
      "source": [
        "def comprimento(lst):\n",
        "    dc = {s[i]:len(s[i])-s[i].count(' ') for s in lst} \n",
        "    return(dc)\n",
        "\n",
        "print(comprimento(['casa minha','tua casa','nossa que bom'])) "
      ]
    },
    {
      "cell_type": "markdown",
      "metadata": {
        "id": "2C36zssaNy_B"
      },
      "source": [
        "### Exercício 4) \n",
        "O método <font color='blue'>sorted</font> assume como atributos uma sequência e um parâmetro `key` que pode ser uma função, a qual é aplicada aos elementos da sequência a fim de ordená-los de acordo com os valores resultantes da função (veja lista de exercícios da aula).\n",
        "\n",
        "Utilize uma função <font color='blue'>lambda</font> como parâmetro `key` no método <font color='blue'>sorted</font> para ordenar uma lista cujos elementos são numéricos, de modo que cada elemento seja ordenado como se tivesse o valor $x^2+x$, onde $x$ corresponde a cada elemento da lista.\n",
        "\n",
        "O resultado da ordenação quando aplicada à lista \n",
        "```python\n",
        "[0.11, -0.11, 0.4, 0.11, -0.57, -0.05, 0.85, -0.27, -0.07, -0.78]\n",
        "```\n",
        "será:\n",
        "\n",
        "a) [-0.78, -0.57, -0.27, -0.11, -0.07, -0.05, 0.11, 0.11, 0.4, 0.85]<br>\n",
        "b) [0.11, 0.11, -0.27, -0.78, -0.11, -0.07, -0.05,  -0.57, 0.4, 0.85]<br>\n",
        "c) [-0.57, -0.27, -0.78, -0.11, -0.07, -0.05, 0.11, 0.11, 0.4, 0.85]<br>\n",
        "d) [-0.05, 0.11, -0.07, -0.11, 0.11, -0.27, 0.4, -0.57, -0.78, 0.85]"
      ]
    },
    {
      "cell_type": "code",
      "execution_count": 13,
      "metadata": {
        "id": "7F-kuDkuNy_C"
      },
      "outputs": [
        {
          "data": {
            "text/plain": [
              "[-0.57, -0.27, -0.78, -0.11, -0.07, -0.05, 0.11, 0.11, 0.4, 0.85]"
            ]
          },
          "execution_count": 13,
          "metadata": {},
          "output_type": "execute_result"
        }
      ],
      "source": [
        "l = [0.11, -0.11, 0.4, 0.11, -0.57, -0.05, 0.85, -0.27, -0.07, -0.78]\n",
        "sorted(l, key=lambda x: x**2 + x)"
      ]
    },
    {
      "cell_type": "markdown",
      "metadata": {
        "id": "S2H0JLg1Ny_E"
      },
      "source": [
        "### Exercício 5) \n",
        "Construa uma função `concatena_dicionarios` que recebe dois dicionários como atributos e concatena ambos em um único dicionário contendo as chaves e valores dos dois dicionários. Se a chave se repete em ambos, junte os valores em uma lista. Por exemplo, dados os dicionários:\n",
        "```python\n",
        "dc1 = {1: '5479', 5: '1479', 7: '1549', 9: '1547'}\n",
        "dc2 = {5: '2647', 2: '9647', 1: '9247'}\n",
        "```\n",
        "a função deve resultar no dicionário\n",
        "```python\n",
        "{1: ['5479', '9247'], 7: '1549', 5: ['1479', '2647'], 9: '1547', 2: '9647'}\n",
        "```\n",
        "Supondo os dicionários:\n",
        "```python\n",
        "dc1 = {4: '10153', 18: '41118', 2: '101515', 15: '354', 7: '4145', 8: '10316', 3: '121016', \n",
        "       11: '15122', 12: '16158', 10: '4188', 14: '15318', 5: '11711', 16: '181412'}\n",
        "\n",
        "dc2 = {19: '16619', 4: '11310', 18: '171112', 11: '171817', 12: '171911', 6: '4195', \n",
        "       5: '171910', 3: '10310', 16: '191916', 10: '111619', 17: '51016'}\n",
        "```\n",
        "como entrada para a função construída, quantas listas são criadas como valores do dicionário, ou seja, quantas chaves se repetem em ambos os dicionários?\n",
        "\n",
        "**Dica:** Você pode utilizar a função <font color='blue'> isinstance </font> do Python que verifica se uma variável é de um determinado tipo. Por exemplo:\n",
        "```python\n",
        "x = 3.7\n",
        "print(isinstance(x,float))\n",
        "```\n",
        "irá imprimir o valor <font color='green'> True </font>. Com a função <font color='blue'> isinstance </font> você pode verificar se o valor do dicionário é uma lista (<font color='green'> list </font>).\n",
        "\n",
        "Outra possibilidade é simplesmente contar quantas chaves aparecem repetidas em ambos os dicionários.\n",
        "\n",
        "a) Número de listas criadas: 5 <br>\n",
        "b) Número de listas criadas: 6<br>\n",
        "c) Número de listas criadas: 7<br>\n",
        "d) Número de listas criadas: 8"
      ]
    },
    {
      "cell_type": "code",
      "execution_count": 15,
      "metadata": {
        "id": "-isO4J3VNy_F"
      },
      "outputs": [
        {
          "data": {
            "text/plain": [
              "dict_keys([4, 19, 18, 11, 12, 6, 5, 3, 16, 10, 17, 2, 15, 7, 8, 14])"
            ]
          },
          "execution_count": 15,
          "metadata": {},
          "output_type": "execute_result"
        }
      ],
      "source": [
        "def concatena_dicionarios(d1,d2):\n",
        "    dr = {}\n",
        "    for k,v in d1.items():\n",
        "        if k in d2.keys():\n",
        "            dr[k] = [d1[k], d2[k]]\n",
        "        else:\n",
        "            dr[k] = d1\n",
        "        \n",
        "        for k, v in d2.items():\n",
        "            if d2[k] not in d1.keys():\n",
        "                dr[k] =  d2[k]\n",
        "    return(dr)\n",
        "\n",
        "dc1 = {4: '10153', 18: '41118', 2: '101515', 15: '354', 7: '4145', 8: '10316', 3: '121016', \n",
        " 11: '15122', 12: '16158', 10: '4188', 14: '15318', 5: '11711', 16: '181412'}\n",
        "dc2 = {19: '16619', 4: '11310', 18: '171112', 11: '171817', 12: '171911', 6: '4195', \n",
        "       5: '171910', 3: '10310', 16: '191916', 10: '111619', 17: '51016'}\n",
        "\n",
        "teste = concatena_dicionarios(dc1,dc2)\n",
        "teste.keys()\n"
      ]
    },
    {
      "cell_type": "code",
      "execution_count": 16,
      "metadata": {},
      "outputs": [
        {
          "data": {
            "text/plain": [
              "{4: '11310',\n",
              " 19: '16619',\n",
              " 18: '171112',\n",
              " 11: '171817',\n",
              " 12: '171911',\n",
              " 6: '4195',\n",
              " 5: '171910',\n",
              " 3: '10310',\n",
              " 16: '191916',\n",
              " 10: '111619',\n",
              " 17: '51016',\n",
              " 2: {4: '10153',\n",
              "  18: '41118',\n",
              "  2: '101515',\n",
              "  15: '354',\n",
              "  7: '4145',\n",
              "  8: '10316',\n",
              "  3: '121016',\n",
              "  11: '15122',\n",
              "  12: '16158',\n",
              "  10: '4188',\n",
              "  14: '15318',\n",
              "  5: '11711',\n",
              "  16: '181412'},\n",
              " 15: {4: '10153',\n",
              "  18: '41118',\n",
              "  2: '101515',\n",
              "  15: '354',\n",
              "  7: '4145',\n",
              "  8: '10316',\n",
              "  3: '121016',\n",
              "  11: '15122',\n",
              "  12: '16158',\n",
              "  10: '4188',\n",
              "  14: '15318',\n",
              "  5: '11711',\n",
              "  16: '181412'},\n",
              " 7: {4: '10153',\n",
              "  18: '41118',\n",
              "  2: '101515',\n",
              "  15: '354',\n",
              "  7: '4145',\n",
              "  8: '10316',\n",
              "  3: '121016',\n",
              "  11: '15122',\n",
              "  12: '16158',\n",
              "  10: '4188',\n",
              "  14: '15318',\n",
              "  5: '11711',\n",
              "  16: '181412'},\n",
              " 8: {4: '10153',\n",
              "  18: '41118',\n",
              "  2: '101515',\n",
              "  15: '354',\n",
              "  7: '4145',\n",
              "  8: '10316',\n",
              "  3: '121016',\n",
              "  11: '15122',\n",
              "  12: '16158',\n",
              "  10: '4188',\n",
              "  14: '15318',\n",
              "  5: '11711',\n",
              "  16: '181412'},\n",
              " 14: {4: '10153',\n",
              "  18: '41118',\n",
              "  2: '101515',\n",
              "  15: '354',\n",
              "  7: '4145',\n",
              "  8: '10316',\n",
              "  3: '121016',\n",
              "  11: '15122',\n",
              "  12: '16158',\n",
              "  10: '4188',\n",
              "  14: '15318',\n",
              "  5: '11711',\n",
              "  16: '181412'}}"
            ]
          },
          "execution_count": 16,
          "metadata": {},
          "output_type": "execute_result"
        }
      ],
      "source": [
        "teste"
      ]
    },
    {
      "cell_type": "code",
      "execution_count": 21,
      "metadata": {},
      "outputs": [],
      "source": [
        "teste = list(dc1.keys())"
      ]
    },
    {
      "cell_type": "code",
      "execution_count": 18,
      "metadata": {},
      "outputs": [
        {
          "data": {
            "text/plain": [
              "[4, 18, 2, 15, 7, 8, 3, 11, 12, 10, 14, 5, 16]"
            ]
          },
          "execution_count": 18,
          "metadata": {},
          "output_type": "execute_result"
        }
      ],
      "source": [
        "teste"
      ]
    },
    {
      "cell_type": "code",
      "execution_count": 19,
      "metadata": {},
      "outputs": [],
      "source": [
        "teste.append(list(dc2.keys()))"
      ]
    },
    {
      "cell_type": "code",
      "execution_count": 23,
      "metadata": {},
      "outputs": [],
      "source": [
        "teste = teste + list(dc2.keys())"
      ]
    },
    {
      "cell_type": "code",
      "execution_count": 24,
      "metadata": {},
      "outputs": [
        {
          "data": {
            "text/plain": [
              "[4,\n",
              " 18,\n",
              " 2,\n",
              " 15,\n",
              " 7,\n",
              " 8,\n",
              " 3,\n",
              " 11,\n",
              " 12,\n",
              " 10,\n",
              " 14,\n",
              " 5,\n",
              " 16,\n",
              " 19,\n",
              " 4,\n",
              " 18,\n",
              " 11,\n",
              " 12,\n",
              " 6,\n",
              " 5,\n",
              " 3,\n",
              " 16,\n",
              " 10,\n",
              " 17]"
            ]
          },
          "execution_count": 24,
          "metadata": {},
          "output_type": "execute_result"
        }
      ],
      "source": [
        "teste"
      ]
    },
    {
      "cell_type": "code",
      "execution_count": 25,
      "metadata": {},
      "outputs": [
        {
          "data": {
            "text/plain": [
              "{2, 3, 4, 5, 6, 7, 8, 10, 11, 12, 14, 15, 16, 17, 18, 19}"
            ]
          },
          "execution_count": 25,
          "metadata": {},
          "output_type": "execute_result"
        }
      ],
      "source": [
        "set(teste)"
      ]
    },
    {
      "cell_type": "code",
      "execution_count": 26,
      "metadata": {},
      "outputs": [
        {
          "data": {
            "text/plain": [
              "[2,\n",
              " 3,\n",
              " 3,\n",
              " 4,\n",
              " 4,\n",
              " 5,\n",
              " 5,\n",
              " 6,\n",
              " 7,\n",
              " 8,\n",
              " 10,\n",
              " 10,\n",
              " 11,\n",
              " 11,\n",
              " 12,\n",
              " 12,\n",
              " 14,\n",
              " 15,\n",
              " 16,\n",
              " 16,\n",
              " 17,\n",
              " 18,\n",
              " 18,\n",
              " 19]"
            ]
          },
          "execution_count": 26,
          "metadata": {},
          "output_type": "execute_result"
        }
      ],
      "source": [
        "sorted(teste)"
      ]
    },
    {
      "cell_type": "code",
      "execution_count": null,
      "metadata": {},
      "outputs": [],
      "source": []
    }
  ],
  "metadata": {
    "colab": {
      "collapsed_sections": [],
      "name": "Python II avaliacao.ipynb",
      "provenance": []
    },
    "kernelspec": {
      "display_name": "Python 3",
      "language": "python",
      "name": "python3"
    },
    "language_info": {
      "codemirror_mode": {
        "name": "ipython",
        "version": 3
      },
      "file_extension": ".py",
      "mimetype": "text/x-python",
      "name": "python",
      "nbconvert_exporter": "python",
      "pygments_lexer": "ipython3",
      "version": "3.8.10"
    }
  },
  "nbformat": 4,
  "nbformat_minor": 0
}
