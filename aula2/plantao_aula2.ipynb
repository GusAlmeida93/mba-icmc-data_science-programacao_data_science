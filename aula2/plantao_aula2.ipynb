{
  "nbformat": 4,
  "nbformat_minor": 0,
  "metadata": {
    "colab": {
      "name": "Semana2.ipynb",
      "provenance": []
    },
    "kernelspec": {
      "name": "python3",
      "display_name": "Python 3"
    },
    "language_info": {
      "name": "python"
    }
  },
  "cells": [
    {
      "cell_type": "code",
      "source": [
        "## todos os imports na primeira célula\n",
        "import pandas as pd\n",
        "import numpy as np"
      ],
      "metadata": {
        "id": "sQj5UNqLZENr"
      },
      "execution_count": null,
      "outputs": []
    },
    {
      "cell_type": "code",
      "execution_count": 2,
      "metadata": {
        "colab": {
          "base_uri": "https://localhost:8080/"
        },
        "id": "i7mtYV4u3F6Z",
        "outputId": "f62c85af-a60a-4367-efff-4e89c75a975d"
      },
      "outputs": [
        {
          "output_type": "stream",
          "name": "stdout",
          "text": [
            "['Manuela', 'Gabriel', 'Miguel', 'Arthur', 'Julia', 'Laura', 'Isabella', 'Pedro']\n"
          ]
        }
      ],
      "source": [
        "# removendo valores de uma lista que constam em outra\n",
        "pessoas = ['Miguel','Sophia','Davi','Alice','Arthur','Julia','Pedro','Isabella','Gabriel','Manuela','Laura']\n",
        "remover = ['Sophia','Davi','Alice']\n",
        "\n",
        "saida = list(set(pessoas) - set(remover))\n",
        "print(saida)"
      ]
    },
    {
      "cell_type": "code",
      "source": [
        "# removendo ocorrências duplicadas\n",
        "pessoas = ['Miguel','Sophia','Davi','Alice','Arthur','Julia','Pedro','Isabella','Gabriel','Manuela','Laura','Gabriel','Manuela']\n",
        "\n",
        "saida = list(set(pessoas))\n",
        "print(saida)"
      ],
      "metadata": {
        "colab": {
          "base_uri": "https://localhost:8080/"
        },
        "id": "JyyU2Nzy4XwX",
        "outputId": "0f2074b3-e5ad-4e96-a024-f4a8c5d57ad3"
      },
      "execution_count": 1,
      "outputs": [
        {
          "output_type": "stream",
          "name": "stdout",
          "text": [
            "['Alice', 'Manuela', 'Gabriel', 'Miguel', 'Sophia', 'Arthur', 'Julia', 'Laura', 'Davi', 'Isabella', 'Pedro']\n"
          ]
        }
      ]
    },
    {
      "cell_type": "code",
      "source": [
        "###### Exercicio 4:\n",
        "\n",
        "#### laço sem condicional\n",
        "#### lista = [<saida> for <variavel> in objeto]\n",
        "\n",
        "#### laço somente com if\n",
        "#### lista = [expressao for variavel in objeto if condicao]\n",
        "\n",
        "### laço if else\n",
        "### lista = [expre if condicao else resultadoFalso for variavel in objeto]\n",
        "\n",
        "pessoas_upper = []\n",
        "for n in pessoas:\n",
        "  if n[-1] in 'aeiou':\n",
        "    pessoas_upper.append(n[:-1]+n[-1].upper())\n",
        "  else:\n",
        "    pessoas_upper.append(n)\n",
        "\n",
        "pessoas_upper = [n[:-1]+n[-1].upper() if n[-1] in 'aeiou' else n for n in pessoas]"
      ],
      "metadata": {
        "id": "KhI99H1gkod_"
      },
      "execution_count": null,
      "outputs": []
    },
    {
      "cell_type": "code",
      "source": [
        "##### Exercício 6\n",
        "\n",
        "numeros = [1, 5, 1, 4, 3, 2, 4, 0, 0, 0, 3, 0, 2, 1, 0, 0, 4, 0, 5, 4]\n",
        "\n",
        "d = {}\n",
        "for i in range(6):\n",
        "  d[i] = numeros.count(i)\n",
        "\n",
        "print(d)"
      ],
      "metadata": {
        "colab": {
          "base_uri": "https://localhost:8080/"
        },
        "id": "6sr0bd14p5mF",
        "outputId": "b152a5cf-d1be-4458-96b1-2786177d0e5e"
      },
      "execution_count": 14,
      "outputs": [
        {
          "output_type": "stream",
          "name": "stdout",
          "text": [
            "{0: 7, 1: 3, 2: 2, 3: 2, 4: 4, 5: 2}\n"
          ]
        }
      ]
    }
  ]
}