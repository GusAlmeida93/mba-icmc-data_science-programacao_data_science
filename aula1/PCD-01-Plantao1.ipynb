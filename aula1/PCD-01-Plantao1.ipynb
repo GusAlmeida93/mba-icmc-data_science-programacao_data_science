{
 "cells": [
  {
   "cell_type": "markdown",
   "metadata": {},
   "source": [
    "<center> <h2> MBA em Ciência de Dados - Programação para Ciência de Dados </h2> </center>\n",
    "\n",
    "<center> <h3> Bruno Gomes Coelho - <a href=\"https://brunogomescoelho.github.io/\">brunocoelho.ml</a> </h3> </center>\n"
   ]
  },
  {
   "cell_type": "markdown",
   "metadata": {},
   "source": [
    "## Sobre mim\n",
    "- Ciência da computação na USP, doutorando na New York University\n",
    "- Kaggle/competições, Continous ML, ML for good, teoria de DL\n",
    "- MBA\n",
    "\n",
    "## Sobre as monitorias\n",
    "- A equipe\n",
    "- PCD e ICD\n",
    "- Gravadas\n",
    "- Adoramos participação e dúvidas\n"
   ]
  },
  {
   "cell_type": "markdown",
   "metadata": {},
   "source": [
    "# <span style=\"color:blue\"> MBA em Ciência de Dados</span>\n",
    "# <span style=\"color:blue\">Programação para Ciência de Dados</span>\n",
    "\n",
    "## <span style=\"color:blue\">Exercícios Python Parte I</span>\n",
    "**Material Produzido por Luis Gustavo Nonato**<br>"
   ]
  },
  {
   "cell_type": "markdown",
   "metadata": {},
   "source": [
    "**Cemeai - ICMC/USP São Carlos**"
   ]
  },
  {
   "cell_type": "markdown",
   "metadata": {},
   "source": [
    "#### <span style=\"color:red\">Recomenda-se fortemente que os exercícios sejam feitos sem consultar as respostas antecipadamente.</span>"
   ]
  },
  {
   "cell_type": "markdown",
   "metadata": {},
   "source": [
    "### Exercício 7) \n",
    "Ainda utilizando a lista `nomes` definida acima, crie uma nova lista chamada `concatenados` com os elementos da lista `nomes`, porém, elementos começando com a mesma letra devem ser concatenados em um único elemento, ou seja, a lista resultante deve ser: \n",
    "```python\n",
    "['Matheus', 'GabrielGustavoGuilherme', 'Hugo', 'RicardoRui', 'Luiz']\n",
    "```\n",
    "__Dica:__ Crie um dicionario onde a chave corresponde a uma letra e o valor a uma string que pode ser concatenada caso o valor não seja vazio. Você pode utilizar o comando <font color='blue'>'in'</font> para verificar se uma chave existe em um dicionário. Por exemplo, o código:\n",
    "```python\n",
    "dc = {'c1': 0, 'c2':1, 'c3':2}\n",
    "print('c2' in dc)\n",
    "```\n",
    "imprime como resultado:\n",
    "```python\n",
    "True\n",
    "```"
   ]
  },
  {
   "cell_type": "code",
   "execution_count": 15,
   "metadata": {},
   "outputs": [
    {
     "name": "stdout",
     "output_type": "stream",
     "text": [
      "['Matheus', 'GabrielGustavoGuilherme', 'Hugo', 'RicardoRui', 'Luiz']\n"
     ]
    }
   ],
   "source": [
    "nomes = ['Matheus', 'Gabriel', 'Gustavo', 'Hugo', 'Ricardo', 'Rui', 'Guilherme', 'Luiz']\n",
    "\n",
    "dic = {}\n",
    "\n",
    "for nome in nomes:\n",
    "    primeira_letra = nome[0]\n",
    "\n",
    "    if primeira_letra not in dic:\n",
    "        dic[primeira_letra] = nome\n",
    "    else:\n",
    "        dic[primeira_letra] = dic[primeira_letra] + nome\n",
    "\n",
    "# valores de um dic\n",
    "concatenados = list(dic.values())\n",
    "\n",
    "print(concatenados)"
   ]
  },
  {
   "cell_type": "markdown",
   "metadata": {},
   "source": [
    "### Exercício 8) \n",
    "Dado o dicionário abaixo, o qual contém valores de imóveis pertencentes a uma pessoa, escreva um código para encontrar qual é o imóvel de maior valor, salvando a chave correspondente em uma variável tipo string."
   ]
  },
  {
   "cell_type": "code",
   "execution_count": 20,
   "metadata": {},
   "outputs": [
    {
     "name": "stdout",
     "output_type": "stream",
     "text": [
      "Imovel de maior valor:  Sitio com lago\n"
     ]
    }
   ],
   "source": [
    "preco_imoveis = {'Apartamento centro': 1250000,\n",
    "               'Apartamento suburbio': 500000,\n",
    "               'Casa cinco quartos': 750000,\n",
    "               'Casa com garagem': 300000,\n",
    "               'Casa com piscina': 1200000,\n",
    "               'Sitio pequeno': 3000000,\n",
    "               'Sitio com lago': 5500000}\n",
    "# iterar um dicionario\n",
    "# .keys() - lista de chaves\n",
    "# .values() - lista de valores\n",
    "# .items() - lista de tuplas (chaves, valores)\n",
    "\n",
    "# começa maximo -1\n",
    "# percorrer o dicionario\n",
    "#     se o valor for maior que o nosso maximo atual\n",
    "#            atualizar o maximo, e a chava resposta \"imovel\"\n",
    "maximo = -1\n",
    "imovel = \"NÃO TEM\" # \"\"\n",
    "\n",
    "# tuple packaging, avançado\n",
    "# vcs verão mais pra frente\n",
    "for chave, valor in preco_imoveis.items():\n",
    "    if valor > maximo:\n",
    "        maximo = valor\n",
    "        imovel = chave\n",
    "        \n",
    "# professor\n",
    "for cv in preco_imoveis.items():\n",
    "    if cv[1] > maximo:\n",
    "        maximo = cv[1]\n",
    "        imovel = cv[0]\n",
    "\n",
    "for cv in preco_imoveis.items():\n",
    "    chave, valor = cv  # 0 é a chave, 1 é o valor\n",
    "    if valor > maximo:\n",
    "        maximo = valor\n",
    "        imovel = chave\n",
    "\n",
    "\n",
    "# escreva o codigo aqui\n",
    "print(\"Imovel de maior valor: \", imovel)"
   ]
  },
  {
   "cell_type": "code",
   "execution_count": 29,
   "metadata": {},
   "outputs": [
    {
     "name": "stdout",
     "output_type": "stream",
     "text": [
      "2.5\n"
     ]
    }
   ],
   "source": [
    "# some os pontos flutuantes e de o total\n",
    "lista_de_tuplas = [\n",
    "    (\"a\", 1, 1.5),\n",
    "    (\"b\", 2, 2.5),\n",
    "    (\"c\", 3, 3.5),\n",
    "]\n",
    "\n",
    "total = 0\n",
    "# for letra, numero, ponto in lista_de_tuplas:\n",
    "for lista in lista_de_tuplas:\n",
    "    # equivalente\n",
    "    # letra = lista[0]\n",
    "    # numero = lista[1]\n",
    "    # ponto = lista[2]\n",
    "    \n",
    "    # equivalente\n",
    "    letra, numero, ponto = lista\n",
    "    total = total + ponto\n",
    "    \n",
    "print(total)"
   ]
  },
  {
   "cell_type": "code",
   "execution_count": 32,
   "metadata": {},
   "outputs": [
    {
     "data": {
      "text/plain": [
       "24"
      ]
     },
     "execution_count": 32,
     "metadata": {},
     "output_type": "execute_result"
    }
   ],
   "source": [
    "# maximo\n",
    "max([1, 24, 5.6])\n",
    "\n",
    "# mais pra frente, resolveremos com:\n",
    "# - list comprehension\n",
    "# - item getter"
   ]
  },
  {
   "cell_type": "code",
   "execution_count": null,
   "metadata": {},
   "outputs": [],
   "source": []
  },
  {
   "cell_type": "markdown",
   "metadata": {},
   "source": [
    "### Exercício 9) \n",
    "Repita o exercício anterior de modo a encontrar o imóvel de maior valor, porém, **NÃO** utilizando um laço <font color='blue'>'for'</font><br> no código.\n",
    "\n",
    "__Dica:__ Armazene os pares (chave, valor) em listas e utilize uma combinação do comando <font color='blue'>'max'</font> disponível no python com o método <font color='blue'>.index()</font> presente nos objetos tipo <font color='blue'>'list'</font>."
   ]
  },
  {
   "cell_type": "code",
   "execution_count": null,
   "metadata": {},
   "outputs": [],
   "source": [
    "# escreva o codigo aqui"
   ]
  },
  {
   "cell_type": "code",
   "execution_count": 41,
   "metadata": {},
   "outputs": [
    {
     "name": "stdout",
     "output_type": "stream",
     "text": [
      "Sitio com lago\n",
      "Sitio com lago\n"
     ]
    }
   ],
   "source": [
    "preco_imoveis = {'Apartamento centro': 1250000,\n",
    "               'Apartamento suburbio': 500000,\n",
    "               'Casa cinco quartos': 750000,\n",
    "               'Casa com garagem': 300000,\n",
    "               'Casa com piscina': 1200000,\n",
    "               'Sitio pequeno': 3000000,\n",
    "               'Sitio com lago': 5500000}\n",
    "\n",
    "# lista nomes dos imoveis\n",
    "# lista preço dos imoveis\n",
    "nomes = list(preco_imoveis.keys())\n",
    "precos = list(preco_imoveis.values())\n",
    "\n",
    "# pegar o maximo dos preços - max()\n",
    "valor_max = max(precos)\n",
    "# posição do elemento maximo lista.index(x) - retorna a primeira posição em que temos o valor x\n",
    "pos_elemento_maximo = precos.index(valor_max)\n",
    "\n",
    "# acesasr a lista de imoveis nessa mesma posição\n",
    "print(nomes[pos_elemento_maximo])\n",
    "\n",
    "# solução do professor\n",
    "imoveis = list(preco_imoveis.keys())\n",
    "preco = list(preco_imoveis.values())\n",
    "\n",
    "print(imoveis[preco.index(max(preco))])"
   ]
  },
  {
   "cell_type": "code",
   "execution_count": null,
   "metadata": {},
   "outputs": [],
   "source": []
  },
  {
   "cell_type": "markdown",
   "metadata": {},
   "source": [
    "### Exercício 10) \n",
    "Escreva um código para contar o número de ocorrências de cada letra na string `minha_string` fornecida abaixo e imprima os resultados.\n",
    "\n",
    "__Dica:__ Utilize um dicionário."
   ]
  },
  {
   "cell_type": "code",
   "execution_count": 42,
   "metadata": {},
   "outputs": [
    {
     "data": {
      "text/plain": [
       "{'s': 2, 'c': 2, 'i': 3, 'e': 2, 'n': 2, 't': 1, 'a': 1, ' ': 1, 'v': 1}"
      ]
     },
     "execution_count": 42,
     "metadata": {},
     "output_type": "execute_result"
    }
   ],
   "source": [
    "minha_string = \"scientia vinces\"\n",
    "\n",
    "# escreva o codigo aqui\n",
    "dic = {}\n",
    "\n",
    "for letra in minha_string:\n",
    "    if letra not in dic:\n",
    "        dic[letra] = 1\n",
    "    else:\n",
    "        dic[letra] = dic[letra] + 1\n",
    "        \n",
    "    # meio\n",
    "\n",
    "# for\n",
    "dic"
   ]
  },
  {
   "cell_type": "code",
   "execution_count": null,
   "metadata": {},
   "outputs": [],
   "source": [
    "# \"avançada\": resolver sem o if/else: defaultdict"
   ]
  }
 ],
 "metadata": {
  "kernelspec": {
   "display_name": "Python 3 (ipykernel)",
   "language": "python",
   "name": "python3"
  },
  "language_info": {
   "codemirror_mode": {
    "name": "ipython",
    "version": 3
   },
   "file_extension": ".py",
   "mimetype": "text/x-python",
   "name": "python",
   "nbconvert_exporter": "python",
   "pygments_lexer": "ipython3",
   "version": "3.8.10"
  },
  "toc": {
   "base_numbering": 1,
   "nav_menu": {},
   "number_sections": false,
   "sideBar": true,
   "skip_h1_title": false,
   "title_cell": "Table of Contents",
   "title_sidebar": "Contents",
   "toc_cell": false,
   "toc_position": {
    "height": "629.667px",
    "left": "582px",
    "top": "292.433px",
    "width": "298.667px"
   },
   "toc_section_display": true,
   "toc_window_display": false
  }
 },
 "nbformat": 4,
 "nbformat_minor": 2
}
